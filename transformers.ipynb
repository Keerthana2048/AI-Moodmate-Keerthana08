{
 "cells": [
  {
   "cell_type": "code",
   "execution_count": 9,
   "id": "188112c4-bb4e-4475-985c-48a8978572b2",
   "metadata": {},
   "outputs": [
    {
     "name": "stderr",
     "output_type": "stream",
     "text": [
      "Device set to use cpu\n"
     ]
    },
    {
     "name": "stdout",
     "output_type": "stream",
     "text": [
      "Mapped Emotion: Happy\n",
      "Mapped Emotion: Sad\n"
     ]
    }
   ],
   "source": [
    "from transformers import pipeline\n",
    "\n",
    "EMOTION_MAPPING = {\n",
    "    \"joy\": \"Happy\",\n",
    "    \"love\": \"Happy\",\n",
    "    \"excitement\": \"Happy\",\n",
    "    \"amusement\": \"Happy\",\n",
    "    \"interest\": \"Neutral\",\n",
    "    \"satisfaction\": \"Neutral\",\n",
    "    \"calmness\": \"Neutral\",\n",
    "    \"sadness\": \"Sad\",\n",
    "    \"anger\": \"Angry\",\n",
    "    \"fear\": \"Fearful\",\n",
    "    \"disgust\": \"Disgusted\",\n",
    "    \"surprise\": \"Surprised\"\n",
    "}\n",
    "\n",
    "def load_text_model():\n",
    "    classifier = pipeline(\n",
    "        \"text-classification\", \n",
    "        model=\"ayoubkirouane/BERT-Emotions-Classifier\",\n",
    "        top_k=None\n",
    "    )\n",
    "    return classifier\n",
    "\n",
    "text_classifier = pipeline(\n",
    "    \"text-classification\", \n",
    "    model=\"ayoubkirouane/BERT-Emotions-Classifier\",\n",
    "    device=0  # 0 = first GPU\n",
    ")\n",
    "\n",
    "def classify_text(text):\n",
    "    results = text_classifier(text)  # Could be list of dicts or list of list of dicts\n",
    "\n",
    "    # Handle if results[0] is a dict\n",
    "    if isinstance(results[0], dict):\n",
    "        top_emotion = results[0]['label'].lower()\n",
    "    # Handle if results[0] is a list (older behavior with top_k=None)\n",
    "    elif isinstance(results[0], list):\n",
    "        top_emotion = results[0][0]['label'].lower()\n",
    "    else:\n",
    "        top_emotion = \"neutral\"\n",
    "\n",
    "    mapped_emotion = EMOTION_MAPPING.get(top_emotion, \"Neutral\")\n",
    "    return mapped_emotion\n",
    "\n",
    "text = \"I love journey!\"\n",
    "print(\"Mapped Emotion:\", classify_text(text))\n",
    "\n",
    "text = \"I will just leave this world!\"\n",
    "print(\"Mapped Emotion:\", classify_text(text))"
   ]
  },
  {
   "cell_type": "code",
   "execution_count": null,
   "id": "5becde65-7224-42d0-9883-184fa1d76e15",
   "metadata": {},
   "outputs": [],
   "source": []
  }
 ],
 "metadata": {
  "kernelspec": {
   "display_name": "Python 3 (ipykernel)",
   "language": "python",
   "name": "python3"
  },
  "language_info": {
   "codemirror_mode": {
    "name": "ipython",
    "version": 3
   },
   "file_extension": ".py",
   "mimetype": "text/x-python",
   "name": "python",
   "nbconvert_exporter": "python",
   "pygments_lexer": "ipython3",
   "version": "3.12.4"
  }
 },
 "nbformat": 4,
 "nbformat_minor": 5
}
