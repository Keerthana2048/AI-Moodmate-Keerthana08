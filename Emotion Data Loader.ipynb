{
 "cells": [
  {
   "cell_type": "code",
   "execution_count": 1,
   "id": "1fa7ab91-ff34-40c9-8fa7-5ffa115ce962",
   "metadata": {},
   "outputs": [
    {
     "name": "stdout",
     "output_type": "stream",
     "text": [
      "Python: 3.12.4 (tags/v3.12.4:8e8a4ba, Jun  6 2024, 19:30:16) [MSC v.1940 64 bit (AMD64)]\n",
      "TensorFlow: 2.20.0\n"
     ]
    }
   ],
   "source": [
    "import os\n",
    "import sys\n",
    "import numpy as np\n",
    "import tensorflow as tf\n",
    "from PIL import Image\n",
    "from sklearn.preprocessing import LabelEncoder\n",
    "from sklearn.model_selection import train_test_split\n",
    "from sklearn.utils.class_weight import compute_class_weight\n",
    "from sklearn.metrics import classification_report, confusion_matrix\n",
    "import matplotlib.pyplot as plt\n",
    "from collections import Counter\n",
    "import glob\n",
    "\n",
    "print(\"Python:\", sys.version.splitlines()[0])\n",
    "print(\"TensorFlow:\", tf.__version__)"
   ]
  },
  {
   "cell_type": "code",
   "execution_count": 4,
   "id": "2067a807-0eea-4c0c-b818-ce91904872f9",
   "metadata": {},
   "outputs": [
    {
     "name": "stdout",
     "output_type": "stream",
     "text": [
      "./data does not exist. Skipping listing.\n",
      "Selected dataset: ai-project\n",
      "\n",
      "Files under ./data/ai-project:\n",
      "folder_level_0/\n",
      "  - file_0_0.jpg\n",
      "  - file_0_1.jpg\n",
      "  - file_0_2.jpg\n",
      "  folder_level_1/\n",
      "    - file_1_0.jpg\n",
      "    - file_1_1.jpg\n",
      "    - file_1_2.jpg\n",
      "    folder_level_2/\n",
      "      - file_2_0.jpg\n",
      "      - file_2_1.jpg\n",
      "      - file_2_2.jpg\n"
     ]
    }
   ],
   "source": [
    "import os\n",
    "\n",
    "INPUT_ROOT = \"./data\"  # placeholder path\n",
    "\n",
    "# List top entries if folder exists\n",
    "if os.path.exists(INPUT_ROOT):\n",
    "    print(\"Top entries:\", os.listdir(INPUT_ROOT))\n",
    "else:\n",
    "    print(f\"{INPUT_ROOT} does not exist. Skipping listing.\")\n",
    "\n",
    "# Dummy dataset selection logic\n",
    "candidates = [\"ai-project\", \"face-dataset\"]  # placeholder candidates\n",
    "DATASET_SLUG = candidates[0] if candidates else None\n",
    "print(\"Selected dataset:\", DATASET_SLUG)\n",
    "\n",
    "# Dummy folder tree print (no actual files)\n",
    "if DATASET_SLUG:\n",
    "    print(f\"\\nFiles under {INPUT_ROOT}/{DATASET_SLUG}:\")\n",
    "    for i in range(3):\n",
    "        print(\"  \" * i + f\"folder_level_{i}/\")\n",
    "        for j in range(3):\n",
    "            print(\"  \" * (i+1) + f\"- file_{i}_{j}.jpg\")\n"
   ]
  },
  {
   "cell_type": "code",
   "execution_count": 5,
   "id": "720eca3b-a7f3-4e8f-9388-75c029f19465",
   "metadata": {},
   "outputs": [
    {
     "name": "stdout",
     "output_type": "stream",
     "text": [
      "TRAIN_DIR: ./data\\ai-project\\fer data set\\train exists? (skipped check)\n",
      "TEST_DIR : ./data\\ai-project\\fer data set\\test exists? (skipped check)\n",
      "\n",
      "Immediate children of dataset_root:\n",
      "  folder_level_0/\n",
      "    - file_0_0.jpg\n",
      "    - file_0_1.jpg\n",
      "    - file_0_2.jpg\n",
      "  folder_level_1/\n",
      "    - file_1_0.jpg\n",
      "    - file_1_1.jpg\n",
      "    - file_1_2.jpg\n",
      "  folder_level_2/\n",
      "    - file_2_0.jpg\n",
      "    - file_2_1.jpg\n",
      "    - file_2_2.jpg\n"
     ]
    }
   ],
   "source": [
    "import os\n",
    "\n",
    "# Step 1: Set dataset slug and subfolder (placeholders)\n",
    "DATASET_SLUG = \"ai-project\"\n",
    "SUBFOLDER = \"fer data set\"\n",
    "\n",
    "dataset_root = os.path.join(\"./data\", DATASET_SLUG)\n",
    "TRAIN_DIR = os.path.join(dataset_root, SUBFOLDER, \"train\")\n",
    "TEST_DIR  = os.path.join(dataset_root, SUBFOLDER, \"test\")\n",
    "\n",
    "# Print paths (no actual files needed)\n",
    "print(\"TRAIN_DIR:\", TRAIN_DIR, \"exists? (skipped check)\")\n",
    "print(\"TEST_DIR :\", TEST_DIR, \"exists? (skipped check)\")\n",
    "\n",
    "# Simulate folder contents\n",
    "print(\"\\nImmediate children of dataset_root:\")\n",
    "for i in range(3):\n",
    "    print(f\"  folder_level_{i}/\")\n",
    "    for j in range(3):\n",
    "        print(f\"    - file_{i}_{j}.jpg\")"
   ]
  },
  {
   "cell_type": "code",
   "execution_count": 6,
   "id": "ebab85db-31c8-4f5f-81a5-104891873005",
   "metadata": {},
   "outputs": [
    {
     "name": "stdout",
     "output_type": "stream",
     "text": [
      "Warning: ./data/ai-project/fer data set/train does not exist. Using dummy data.\n",
      "Warning: ./data/ai-project/fer data set/test does not exist. Using dummy data.\n",
      "Train images: 15\n",
      "Test images : 15\n",
      "Example train path: ./data/ai-project/fer data set/train/happy/img_0.jpg\n",
      "Example train label: happy\n",
      "Class distribution (train): Counter({'happy': 5, 'sad': 5, 'angry': 5})\n"
     ]
    }
   ],
   "source": [
    "import os\n",
    "import glob\n",
    "from collections import Counter\n",
    "\n",
    "# Dummy TRAIN_DIR and TEST_DIR (no real files needed)\n",
    "TRAIN_DIR = \"./data/ai-project/fer data set/train\"\n",
    "TEST_DIR  = \"./data/ai-project/fer data set/test\"\n",
    "\n",
    "def collect_paths_labels(dir_path):\n",
    "    paths, labels = [], []\n",
    "    if not os.path.exists(dir_path):\n",
    "        print(f\"Warning: {dir_path} does not exist. Using dummy data.\")\n",
    "        # simulate 3 classes with 5 images each\n",
    "        for class_name in [\"happy\", \"sad\", \"angry\"]:\n",
    "            for i in range(5):\n",
    "                paths.append(f\"{dir_path}/{class_name}/img_{i}.jpg\")\n",
    "                labels.append(class_name)\n",
    "        return paths, labels\n",
    "\n",
    "    for class_name in sorted([d for d in os.listdir(dir_path) if os.path.isdir(os.path.join(dir_path, d))]):\n",
    "        class_dir = os.path.join(dir_path, class_name)\n",
    "        matched = [p for p in glob.glob(os.path.join(class_dir, \"*.*\")) if p.lower().endswith((\".jpg\", \".jpeg\", \".png\"))]\n",
    "        if len(matched) == 0:\n",
    "            print(f\"Warning: class '{class_name}' has no images at {class_dir}\")\n",
    "            continue\n",
    "        for p in matched:\n",
    "            paths.append(p)\n",
    "            labels.append(class_name)\n",
    "    return paths, labels\n",
    "\n",
    "train_paths, train_labels = collect_paths_labels(TRAIN_DIR)\n",
    "test_paths, test_labels = collect_paths_labels(TEST_DIR)\n",
    "\n",
    "print(\"Train images:\", len(train_paths))\n",
    "print(\"Test images :\", len(test_paths))\n",
    "print(\"Example train path:\", train_paths[0] if train_paths else None)\n",
    "print(\"Example train label:\", train_labels[0] if train_labels else None)\n",
    "print(\"Class distribution (train):\", Counter(train_labels))"
   ]
  },
  {
   "cell_type": "code",
   "execution_count": null,
   "id": "11e83665-ac5a-4fce-beb3-b6db5b781610",
   "metadata": {},
   "outputs": [],
   "source": []
  }
 ],
 "metadata": {
  "kernelspec": {
   "display_name": "Python 3 (ipykernel)",
   "language": "python",
   "name": "python3"
  },
  "language_info": {
   "codemirror_mode": {
    "name": "ipython",
    "version": 3
   },
   "file_extension": ".py",
   "mimetype": "text/x-python",
   "name": "python",
   "nbconvert_exporter": "python",
   "pygments_lexer": "ipython3",
   "version": "3.12.4"
  }
 },
 "nbformat": 4,
 "nbformat_minor": 5
}
